{
  "cells": [
    {
      "cell_type": "code",
      "execution_count": null,
      "id": "67590481",
      "metadata": {
        "ExecuteTime": {
          "end_time": "2022-11-03T07:04:01.223300Z",
          "start_time": "2022-11-03T07:03:10.858271Z"
        },
        "id": "67590481"
      },
      "outputs": [],
      "source": [
        "import pandas as pd\n",
        "import numpy as np\n",
        "import matplotlib.pyplot as plt\n",
        "import seaborn as sns \n",
        "from sklearn.model_selection import KFold\n",
        "from sklearn.model_selection import cross_val_score\n",
        "from sklearn.neighbors import KNeighborsClassifier\n",
        "from sklearn.model_selection import GridSearchCV\n",
        "from sklearn.metrics import classification_report\n",
        "from sklearn.metrics import accuracy_score, confusion_matrix\n",
        "from sklearn.model_selection import train_test_split\n",
        "from sklearn.ensemble import RandomForestClassifier\n",
        "from sklearn.ensemble import BaggingClassifier\n",
        "from sklearn.ensemble import AdaBoostClassifier\n",
        "from xgboost import XGBClassifier\n",
        "from sklearn.preprocessing import StandardScaler\n",
        "from sklearn.linear_model import LogisticRegression\n",
        "from sklearn.preprocessing import MinMaxScaler\n",
        "from sklearn.naive_bayes import GaussianNB,MultinomialNB\n",
        "from sklearn.tree import  DecisionTreeClassifier\n",
        "from sklearn import tree\n",
        "from sklearn import preprocessing\n",
        "from sklearn import datasets"
      ]
    },
    {
      "cell_type": "code",
      "execution_count": null,
      "id": "8b9dd200",
      "metadata": {
        "ExecuteTime": {
          "end_time": "2022-11-03T07:04:01.868238Z",
          "start_time": "2022-11-03T07:04:01.223300Z"
        },
        "id": "8b9dd200"
      },
      "outputs": [],
      "source": [
        "Telecom=pd.read_csv('telecommunications_churn.csv')"
      ]
    },
    {
      "cell_type": "code",
      "execution_count": null,
      "id": "2278f900",
      "metadata": {
        "ExecuteTime": {
          "end_time": "2022-11-03T07:04:02.226345Z",
          "start_time": "2022-11-03T07:04:01.868238Z"
        },
        "id": "2278f900"
      },
      "outputs": [],
      "source": [
        "Telecom"
      ]
    },
    {
      "cell_type": "code",
      "execution_count": null,
      "id": "8f208dff",
      "metadata": {
        "ExecuteTime": {
          "end_time": "2022-11-03T07:04:02.365082Z",
          "start_time": "2022-11-03T07:04:02.230333Z"
        },
        "id": "8f208dff"
      },
      "outputs": [],
      "source": [
        "Telecom.dtypes"
      ]
    },
    {
      "cell_type": "code",
      "execution_count": null,
      "id": "d937d459",
      "metadata": {
        "ExecuteTime": {
          "end_time": "2022-11-03T07:04:03.377478Z",
          "start_time": "2022-11-03T07:04:02.368043Z"
        },
        "id": "d937d459"
      },
      "outputs": [],
      "source": [
        "Telecom.info()"
      ]
    },
    {
      "cell_type": "code",
      "execution_count": null,
      "id": "cec25135",
      "metadata": {
        "ExecuteTime": {
          "end_time": "2022-11-03T07:25:45.800758Z",
          "start_time": "2022-11-03T07:25:45.766846Z"
        },
        "id": "cec25135"
      },
      "outputs": [],
      "source": [
        "Telecom[Telecom.duplicated()]"
      ]
    },
    {
      "cell_type": "code",
      "execution_count": null,
      "id": "39bb0a7d",
      "metadata": {
        "ExecuteTime": {
          "end_time": "2022-11-03T07:04:03.612458Z",
          "start_time": "2022-11-03T07:04:03.381440Z"
        },
        "id": "39bb0a7d"
      },
      "outputs": [],
      "source": [
        "Telecom.describe()"
      ]
    },
    {
      "cell_type": "code",
      "execution_count": null,
      "id": "438388ef",
      "metadata": {
        "ExecuteTime": {
          "end_time": "2022-11-03T07:04:07.086715Z",
          "start_time": "2022-11-03T07:04:03.616414Z"
        },
        "id": "438388ef"
      },
      "outputs": [],
      "source": [
        "plt.figure(figsize=(30,14))\n",
        "plt.boxplot(Telecom)\n",
        "plt.show()"
      ]
    },
    {
      "cell_type": "code",
      "execution_count": null,
      "id": "abd78d8f",
      "metadata": {
        "ExecuteTime": {
          "end_time": "2022-11-03T07:05:25.060751Z",
          "start_time": "2022-11-03T07:04:11.676780Z"
        },
        "id": "abd78d8f",
        "scrolled": true
      },
      "outputs": [],
      "source": [
        "sns.set_style(style='darkgrid')\n",
        "sns.pairplot(Telecom)"
      ]
    },
    {
      "cell_type": "code",
      "execution_count": null,
      "id": "WsQOfKsy8hqh",
      "metadata": {
        "ExecuteTime": {
          "end_time": "2022-11-03T07:05:25.616282Z",
          "start_time": "2022-11-03T07:05:25.065738Z"
        },
        "id": "WsQOfKsy8hqh"
      },
      "outputs": [],
      "source": [
        "sns.countplot(y='customer_service_calls', data=Telecom)"
      ]
    },
    {
      "cell_type": "code",
      "execution_count": null,
      "id": "X1j-sekW8tEi",
      "metadata": {
        "ExecuteTime": {
          "end_time": "2022-11-03T07:05:25.896534Z",
          "start_time": "2022-11-03T07:05:25.618278Z"
        },
        "id": "X1j-sekW8tEi"
      },
      "outputs": [],
      "source": [
        "sns.countplot(x='international_plan', data=Telecom)"
      ]
    },
    {
      "cell_type": "code",
      "execution_count": null,
      "id": "w-xBw_-B8s56",
      "metadata": {
        "ExecuteTime": {
          "end_time": "2022-11-03T07:05:26.343950Z",
          "start_time": "2022-11-03T07:05:26.132354Z"
        },
        "id": "w-xBw_-B8s56"
      },
      "outputs": [],
      "source": [
        "pie_churn = pd.DataFrame(Telecom['churn'].value_counts())\n",
        "myexplode = [0.2, 0]\n",
        "pie_churn.plot.pie( subplots=True,labels = pie_churn.index.values, autopct='%1.1f%%', figsize = (15,5), startangle= 50, explode = myexplode)"
      ]
    },
    {
      "cell_type": "code",
      "execution_count": null,
      "id": "Qdg3x2MZ8hgt",
      "metadata": {
        "ExecuteTime": {
          "end_time": "2022-11-03T07:05:26.924900Z",
          "start_time": "2022-11-03T07:05:26.346947Z"
        },
        "id": "Qdg3x2MZ8hgt",
        "scrolled": true
      },
      "outputs": [],
      "source": [
        "sns.countplot(x ='international_calls', hue = \"churn\", data = Telecom)"
      ]
    },
    {
      "cell_type": "code",
      "execution_count": null,
      "id": "e2aee1c6",
      "metadata": {
        "ExecuteTime": {
          "end_time": "2022-11-03T07:27:52.524851Z",
          "start_time": "2022-11-03T07:27:52.149487Z"
        },
        "id": "e2aee1c6"
      },
      "outputs": [],
      "source": [
        "sns.violinplot(y= \"international_plan\",   x=\"churn\", data= Telecom, size=9)"
      ]
    },
    {
      "cell_type": "code",
      "execution_count": null,
      "id": "9-iPpyBr9j0D",
      "metadata": {
        "ExecuteTime": {
          "end_time": "2022-11-03T07:05:28.075227Z",
          "start_time": "2022-11-03T07:05:26.927870Z"
        },
        "id": "9-iPpyBr9j0D"
      },
      "outputs": [],
      "source": [
        "sns.violinplot(y= \"international_calls\",   x=\"churn\", data= Telecom, size=9)"
      ]
    },
    {
      "cell_type": "code",
      "execution_count": null,
      "id": "uj9gHqzV9jwA",
      "metadata": {
        "ExecuteTime": {
          "end_time": "2022-11-03T07:05:28.431204Z",
          "start_time": "2022-11-03T07:05:28.080838Z"
        },
        "id": "uj9gHqzV9jwA"
      },
      "outputs": [],
      "source": [
        "plt.scatter(Telecom.churn, Telecom.international_calls)\n",
        "plt.show()"
      ]
    },
    {
      "cell_type": "code",
      "execution_count": null,
      "id": "fzDSfN9p9jsU",
      "metadata": {
        "ExecuteTime": {
          "end_time": "2022-11-03T07:05:28.702473Z",
          "start_time": "2022-11-03T07:05:28.435189Z"
        },
        "id": "fzDSfN9p9jsU"
      },
      "outputs": [],
      "source": [
        "sns.boxplot(x=\"churn\",y=\"international_calls\", data=Telecom)\n",
        "plt.show()"
      ]
    },
    {
      "cell_type": "code",
      "execution_count": null,
      "id": "8TIEAwoB9-J3",
      "metadata": {
        "ExecuteTime": {
          "end_time": "2022-11-03T07:05:31.015159Z",
          "start_time": "2022-11-03T07:05:28.705465Z"
        },
        "id": "8TIEAwoB9-J3"
      },
      "outputs": [],
      "source": [
        "fig, ax = plt.subplots(figsize=(15,15)) \n",
        "\n",
        "sns.heatmap(Telecom.corr(), annot=True, linewidths=.5, ax=ax)\n",
        "plt.show()"
      ]
    },
    {
      "cell_type": "code",
      "execution_count": null,
      "id": "XKauWplbYqWh",
      "metadata": {
        "ExecuteTime": {
          "end_time": "2022-11-03T07:05:31.030067Z",
          "start_time": "2022-11-03T07:05:31.015159Z"
        },
        "id": "XKauWplbYqWh"
      },
      "outputs": [],
      "source": [
        "y=Telecom.iloc[:,18]\n",
        "x=Telecom.iloc[:,0:18]"
      ]
    },
    {
      "cell_type": "code",
      "execution_count": null,
      "id": "TLVJDK6qqJyW",
      "metadata": {
        "ExecuteTime": {
          "end_time": "2022-11-03T07:05:31.246508Z",
          "start_time": "2022-11-03T07:05:31.033061Z"
        },
        "id": "TLVJDK6qqJyW"
      },
      "outputs": [],
      "source": [
        "from numpy import set_printoptions\n",
        "from sklearn.preprocessing import MinMaxScaler\n",
        "array=Telecom.values\n",
        "\n",
        "Scaler=MinMaxScaler(feature_range=(0,1))\n",
        "rescaledX=Scaler.fit_transform(array[:,0:18])\n",
        "\n",
        "set_printoptions(precision=2)\n",
        "print(rescaledX[0:18,:])"
      ]
    },
    {
      "cell_type": "code",
      "execution_count": null,
      "id": "zWvcq5gPqLmW",
      "metadata": {
        "ExecuteTime": {
          "end_time": "2022-11-03T07:05:31.401971Z",
          "start_time": "2022-11-03T07:05:31.249510Z"
        },
        "id": "zWvcq5gPqLmW"
      },
      "outputs": [],
      "source": [
        "from sklearn.preprocessing import StandardScaler\n",
        "array=Telecom.values\n",
        "Scaler=StandardScaler().fit(array)\n",
        "rescaledX=Scaler.transform(array)\n",
        "\n",
        "set_printoptions(precision=2)\n",
        "print(rescaledX[0:18,:])"
      ]
    },
    {
      "cell_type": "code",
      "execution_count": null,
      "id": "3fu34jY9qLdT",
      "metadata": {
        "ExecuteTime": {
          "end_time": "2022-11-03T07:08:05.241480Z",
          "start_time": "2022-11-03T07:05:31.405963Z"
        },
        "id": "3fu34jY9qLdT"
      },
      "outputs": [],
      "source": [
        "!pip install sweetviz\n",
        "!pip install pandas_profiling\n",
        "!pip install markupsafe\n",
        "import sweetviz as sv\n",
        "sweet_report=sv.analyze(Telecom)\n",
        "sweet_report.show_html('weather_report.html')"
      ]
    },
    {
      "cell_type": "code",
      "execution_count": null,
      "id": "5UnRGuG29HHB",
      "metadata": {
        "ExecuteTime": {
          "end_time": "2022-11-03T07:09:50.116638Z",
          "start_time": "2022-11-03T07:08:05.241480Z"
        },
        "id": "5UnRGuG29HHB"
      },
      "outputs": [],
      "source": [
        "import pandas_profiling as pp\n",
        "EDA_report=pp.ProfileReport(Telecom)\n",
        "EDA_report.to_file(output_file='report.html')\n",
        "EDA_report"
      ]
    },
    {
      "cell_type": "markdown",
      "id": "GW-7R1s1aNzz",
      "metadata": {
        "id": "GW-7R1s1aNzz"
      },
      "source": [
        "K NEAREST NEIGHBOR"
      ]
    },
    {
      "cell_type": "code",
      "execution_count": null,
      "id": "bqUHQCm5xA6J",
      "metadata": {
        "ExecuteTime": {
          "end_time": "2022-11-03T07:09:50.132261Z",
          "start_time": "2022-11-03T07:09:50.116638Z"
        },
        "id": "bqUHQCm5xA6J"
      },
      "outputs": [],
      "source": [
        "from sklearn.model_selection import KFold\n",
        "from sklearn.model_selection import cross_val_score\n",
        "from sklearn.neighbors import KNeighborsClassifier\n",
        "from sklearn.model_selection import GridSearchCV"
      ]
    },
    {
      "cell_type": "code",
      "execution_count": null,
      "id": "lUQOEyEcWW0g",
      "metadata": {
        "ExecuteTime": {
          "end_time": "2022-11-03T07:09:50.272871Z",
          "start_time": "2022-11-03T07:09:50.132261Z"
        },
        "id": "lUQOEyEcWW0g"
      },
      "outputs": [],
      "source": [
        "#model built using KFold\n",
        "\n",
        "num_folds = 8\n",
        "kfold = KFold(n_splits=8)"
      ]
    },
    {
      "cell_type": "code",
      "execution_count": null,
      "id": "imb-RXeGWgrt",
      "metadata": {
        "ExecuteTime": {
          "end_time": "2022-11-03T07:09:51.574490Z",
          "start_time": "2022-11-03T07:09:50.272871Z"
        },
        "id": "imb-RXeGWgrt"
      },
      "outputs": [],
      "source": [
        "model = KNeighborsClassifier(n_neighbors=10)\n",
        "results = cross_val_score(model, x, y, cv=kfold)"
      ]
    },
    {
      "cell_type": "code",
      "execution_count": null,
      "id": "zgOdzxMJWhmM",
      "metadata": {
        "ExecuteTime": {
          "end_time": "2022-11-03T07:09:51.589451Z",
          "start_time": "2022-11-03T07:09:51.578479Z"
        },
        "id": "zgOdzxMJWhmM"
      },
      "outputs": [],
      "source": [
        "results"
      ]
    },
    {
      "cell_type": "code",
      "execution_count": null,
      "id": "J__1ISolWlUT",
      "metadata": {
        "ExecuteTime": {
          "end_time": "2022-11-03T07:09:51.717109Z",
          "start_time": "2022-11-03T07:09:51.600421Z"
        },
        "id": "J__1ISolWlUT"
      },
      "outputs": [],
      "source": [
        "results.mean()"
      ]
    },
    {
      "cell_type": "code",
      "execution_count": null,
      "id": "58O7SqXeWo3e",
      "metadata": {
        "ExecuteTime": {
          "end_time": "2022-11-03T07:09:51.937519Z",
          "start_time": "2022-11-03T07:09:51.721100Z"
        },
        "id": "58O7SqXeWo3e"
      },
      "outputs": [],
      "source": [
        "from sklearn.model_selection import GridSearchCV"
      ]
    },
    {
      "cell_type": "code",
      "execution_count": null,
      "id": "LjgFHPkbWtlY",
      "metadata": {
        "ExecuteTime": {
          "end_time": "2022-11-03T07:09:52.246810Z",
          "start_time": "2022-11-03T07:09:51.943505Z"
        },
        "id": "LjgFHPkbWtlY"
      },
      "outputs": [],
      "source": [
        "n_neighbors = np.array(range(1,50))\n",
        "param_grid = dict(n_neighbors=n_neighbors)"
      ]
    },
    {
      "cell_type": "code",
      "execution_count": null,
      "id": "-XOzicDLWwel",
      "metadata": {
        "ExecuteTime": {
          "end_time": "2022-11-03T07:10:14.434797Z",
          "start_time": "2022-11-03T07:09:52.249801Z"
        },
        "id": "-XOzicDLWwel"
      },
      "outputs": [],
      "source": [
        "model = KNeighborsClassifier()\n",
        "grid = GridSearchCV(estimator=model, param_grid=param_grid)\n",
        "grid.fit(x, y)"
      ]
    },
    {
      "cell_type": "code",
      "execution_count": null,
      "id": "or3UZMrjWyoF",
      "metadata": {
        "ExecuteTime": {
          "end_time": "2022-11-07T12:47:24.112227Z",
          "start_time": "2022-11-07T12:47:24.096602Z"
        },
        "id": "or3UZMrjWyoF"
      },
      "outputs": [],
      "source": [
        "print(grid.best_score_)\n",
        "print(grid.best_params_)"
      ]
    },
    {
      "cell_type": "code",
      "execution_count": null,
      "id": "0d3d617f",
      "metadata": {
        "ExecuteTime": {
          "end_time": "2022-11-07T12:48:47.789969Z",
          "start_time": "2022-11-07T12:48:47.301312Z"
        },
        "id": "0d3d617f"
      },
      "outputs": [],
      "source": [
        "modelknn = KNeighborsClassifier(n_neighbors=8)\n",
        "resultsknn = cross_val_score(modelknn, x, y, cv=kfold)"
      ]
    },
    {
      "cell_type": "code",
      "execution_count": null,
      "id": "fe9a9233",
      "metadata": {
        "ExecuteTime": {
          "end_time": "2022-11-07T12:50:45.883818Z",
          "start_time": "2022-11-07T12:50:45.867831Z"
        },
        "id": "fe9a9233"
      },
      "outputs": [],
      "source": [
        "acckn=resultsknn.mean()\n",
        "acckn"
      ]
    },
    {
      "cell_type": "markdown",
      "id": "RtXIP97HaHLX",
      "metadata": {
        "id": "RtXIP97HaHLX"
      },
      "source": [
        "LOGISTIC REGRESSION"
      ]
    },
    {
      "cell_type": "code",
      "execution_count": null,
      "id": "qUMGm9LFxWKB",
      "metadata": {
        "ExecuteTime": {
          "end_time": "2022-11-03T07:10:14.634831Z",
          "start_time": "2022-11-03T07:10:14.469707Z"
        },
        "id": "qUMGm9LFxWKB"
      },
      "outputs": [],
      "source": [
        "from sklearn.linear_model import LogisticRegression\n",
        "from sklearn.preprocessing import MinMaxScaler\n",
        "from sklearn.model_selection import train_test_split\n",
        "from sklearn.metrics import classification_report"
      ]
    },
    {
      "cell_type": "code",
      "execution_count": null,
      "id": "5oos18eFaAPk",
      "metadata": {
        "ExecuteTime": {
          "end_time": "2022-11-03T07:10:14.820814Z",
          "start_time": "2022-11-03T07:10:14.637666Z"
        },
        "id": "5oos18eFaAPk"
      },
      "outputs": [],
      "source": [
        "model=LogisticRegression()"
      ]
    },
    {
      "cell_type": "code",
      "execution_count": null,
      "id": "tLMXfAwNaB3B",
      "metadata": {
        "ExecuteTime": {
          "end_time": "2022-11-03T07:10:15.004952Z",
          "start_time": "2022-11-03T07:10:14.824810Z"
        },
        "id": "tLMXfAwNaB3B"
      },
      "outputs": [],
      "source": [
        "y=MinMaxScaler()"
      ]
    },
    {
      "cell_type": "code",
      "execution_count": null,
      "id": "TFOzgcg8aULx",
      "metadata": {
        "ExecuteTime": {
          "end_time": "2022-11-03T07:10:15.161033Z",
          "start_time": "2022-11-03T07:10:15.007787Z"
        },
        "id": "TFOzgcg8aULx"
      },
      "outputs": [],
      "source": [
        "norm=y.fit_transform(Telecom)"
      ]
    },
    {
      "cell_type": "code",
      "execution_count": null,
      "id": "dpPbQoJzabne",
      "metadata": {
        "ExecuteTime": {
          "end_time": "2022-11-03T07:10:15.473085Z",
          "start_time": "2022-11-03T07:10:15.303581Z"
        },
        "id": "dpPbQoJzabne"
      },
      "outputs": [],
      "source": [
        "df=pd.DataFrame(norm)"
      ]
    },
    {
      "cell_type": "code",
      "execution_count": null,
      "id": "5i9sPM2TaUHW",
      "metadata": {
        "ExecuteTime": {
          "end_time": "2022-11-03T07:10:15.880860Z",
          "start_time": "2022-11-03T07:10:15.696296Z"
        },
        "id": "5i9sPM2TaUHW"
      },
      "outputs": [],
      "source": [
        "x=df.iloc[:,0:18]\n",
        "x"
      ]
    },
    {
      "cell_type": "code",
      "execution_count": null,
      "id": "650FzcJIatHq",
      "metadata": {
        "ExecuteTime": {
          "end_time": "2022-11-03T07:10:16.037948Z",
          "start_time": "2022-11-03T07:10:15.883853Z"
        },
        "id": "650FzcJIatHq"
      },
      "outputs": [],
      "source": [
        "y=df.iloc[:,18]\n",
        "y"
      ]
    },
    {
      "cell_type": "code",
      "execution_count": null,
      "id": "36eh_4jOavdG",
      "metadata": {
        "ExecuteTime": {
          "end_time": "2022-11-03T07:10:16.225661Z",
          "start_time": "2022-11-03T07:10:16.041911Z"
        },
        "id": "36eh_4jOavdG"
      },
      "outputs": [],
      "source": [
        "x_train,x_test,y_train,y_test =train_test_split(x,y,test_size =0.3,random_state =42)"
      ]
    },
    {
      "cell_type": "code",
      "execution_count": null,
      "id": "8RZnqQZOajAZ",
      "metadata": {
        "ExecuteTime": {
          "end_time": "2022-11-03T07:10:16.868294Z",
          "start_time": "2022-11-03T07:10:16.228675Z"
        },
        "id": "8RZnqQZOajAZ"
      },
      "outputs": [],
      "source": [
        "lr=LogisticRegression()\n",
        "lr.fit(x_train,y_train)"
      ]
    },
    {
      "cell_type": "code",
      "execution_count": null,
      "id": "sM8DiAqea9NN",
      "metadata": {
        "ExecuteTime": {
          "end_time": "2022-11-03T07:10:16.900208Z",
          "start_time": "2022-11-03T07:10:16.871286Z"
        },
        "id": "sM8DiAqea9NN"
      },
      "outputs": [],
      "source": [
        "predlr=lr.predict(x_test)\n",
        "predlr"
      ]
    },
    {
      "cell_type": "code",
      "execution_count": null,
      "id": "E1ffN5VPa7_v",
      "metadata": {
        "ExecuteTime": {
          "end_time": "2022-11-03T07:10:17.011907Z",
          "start_time": "2022-11-03T07:10:16.903201Z"
        },
        "id": "E1ffN5VPa7_v"
      },
      "outputs": [],
      "source": [
        "pd.crosstab(y_test,predlr)"
      ]
    },
    {
      "cell_type": "code",
      "execution_count": null,
      "id": "dy_UVlbvbDrc",
      "metadata": {
        "ExecuteTime": {
          "end_time": "2022-11-03T07:10:17.153046Z",
          "start_time": "2022-11-03T07:10:17.014901Z"
        },
        "id": "dy_UVlbvbDrc"
      },
      "outputs": [],
      "source": [
        "acclr=np.mean(y_test==predlr)\n",
        "acclr"
      ]
    },
    {
      "cell_type": "code",
      "execution_count": null,
      "id": "Xmsu2BVWbIXg",
      "metadata": {
        "ExecuteTime": {
          "end_time": "2022-11-03T07:10:17.308004Z",
          "start_time": "2022-11-03T07:10:17.156013Z"
        },
        "id": "Xmsu2BVWbIXg"
      },
      "outputs": [],
      "source": [
        "#classification report of Logistic Regression\n",
        "\n",
        "print(classification_report(predlr,y_test))"
      ]
    },
    {
      "cell_type": "markdown",
      "id": "TuOonH-YbVRS",
      "metadata": {
        "id": "TuOonH-YbVRS"
      },
      "source": [
        "ADA BOOST MODEL"
      ]
    },
    {
      "cell_type": "code",
      "execution_count": null,
      "id": "La1skub4x1Dz",
      "metadata": {
        "ExecuteTime": {
          "end_time": "2022-11-03T07:10:17.385838Z",
          "start_time": "2022-11-03T07:10:17.311995Z"
        },
        "id": "La1skub4x1Dz"
      },
      "outputs": [],
      "source": [
        "from sklearn.ensemble import AdaBoostClassifier\n",
        "from sklearn.model_selection import train_test_split, cross_val_score\n",
        "from sklearn.metrics import classification_report"
      ]
    },
    {
      "cell_type": "code",
      "execution_count": null,
      "id": "OFyFZXtGbLWX",
      "metadata": {
        "ExecuteTime": {
          "end_time": "2022-11-03T07:10:18.097446Z",
          "start_time": "2022-11-03T07:10:17.388743Z"
        },
        "id": "OFyFZXtGbLWX"
      },
      "outputs": [],
      "source": [
        "num_trees = 10\n",
        "seed=42\n",
        "modelab = AdaBoostClassifier(n_estimators=num_trees, random_state=seed)\n",
        "results = cross_val_score(modelab, x_train, y_train)\n",
        "print(results.mean())"
      ]
    },
    {
      "cell_type": "code",
      "execution_count": null,
      "id": "ZAN2tN8qbDlr",
      "metadata": {
        "ExecuteTime": {
          "end_time": "2022-11-03T07:10:18.176895Z",
          "start_time": "2022-11-03T07:10:18.101437Z"
        },
        "id": "ZAN2tN8qbDlr"
      },
      "outputs": [],
      "source": [
        "modelab.fit(x_train,y_train)\n",
        "predab=modelab.predict(x_test)"
      ]
    },
    {
      "cell_type": "code",
      "execution_count": null,
      "id": "BpOHwthPbYy9",
      "metadata": {
        "ExecuteTime": {
          "end_time": "2022-11-03T07:10:18.224196Z",
          "start_time": "2022-11-03T07:10:18.179892Z"
        },
        "id": "BpOHwthPbYy9"
      },
      "outputs": [],
      "source": [
        "accab=np.mean(predab==y_test)\n",
        "accab"
      ]
    },
    {
      "cell_type": "code",
      "execution_count": null,
      "id": "EexyH91BbYuU",
      "metadata": {
        "ExecuteTime": {
          "end_time": "2022-11-03T07:10:18.504534Z",
          "start_time": "2022-11-03T07:10:18.228031Z"
        },
        "id": "EexyH91BbYuU"
      },
      "outputs": [],
      "source": [
        "#Classification report od Ada boost model\n",
        "\n",
        "print(classification_report(predab,y_test))"
      ]
    },
    {
      "cell_type": "markdown",
      "id": "tVe_jHIJbwWl",
      "metadata": {
        "id": "tVe_jHIJbwWl"
      },
      "source": [
        "XGBOOST MODEL "
      ]
    },
    {
      "cell_type": "code",
      "execution_count": null,
      "id": "cl_Wn2yeyHru",
      "metadata": {
        "ExecuteTime": {
          "end_time": "2022-11-03T07:10:18.599153Z",
          "start_time": "2022-11-03T07:10:18.507499Z"
        },
        "id": "cl_Wn2yeyHru"
      },
      "outputs": [],
      "source": [
        "from xgboost import XGBClassifier\n",
        "from sklearn.metrics import classification_report"
      ]
    },
    {
      "cell_type": "code",
      "execution_count": null,
      "id": "i4ts4dAwbYr2",
      "metadata": {
        "ExecuteTime": {
          "end_time": "2022-11-03T07:10:19.439758Z",
          "start_time": "2022-11-03T07:10:18.603144Z"
        },
        "id": "i4ts4dAwbYr2"
      },
      "outputs": [],
      "source": [
        "modelx=XGBClassifier()\n",
        "modelx.fit(x_train,y_train)"
      ]
    },
    {
      "cell_type": "code",
      "execution_count": null,
      "id": "RL7_UqW7bYpM",
      "metadata": {
        "ExecuteTime": {
          "end_time": "2022-11-03T07:10:19.499352Z",
          "start_time": "2022-11-03T07:10:19.442502Z"
        },
        "id": "RL7_UqW7bYpM"
      },
      "outputs": [],
      "source": [
        "predx=modelx.predict(x_test)\n",
        "predx"
      ]
    },
    {
      "cell_type": "code",
      "execution_count": null,
      "id": "E4MpigaqbYma",
      "metadata": {
        "ExecuteTime": {
          "end_time": "2022-11-03T07:10:19.577140Z",
          "start_time": "2022-11-03T07:10:19.503340Z"
        },
        "id": "E4MpigaqbYma"
      },
      "outputs": [],
      "source": [
        "#Accuac\n",
        "\n",
        "accxb=np.mean(predx==y_test)\n",
        "accxb"
      ]
    },
    {
      "cell_type": "code",
      "execution_count": null,
      "id": "nMjCk2x3b6nf",
      "metadata": {
        "ExecuteTime": {
          "end_time": "2022-11-03T07:10:19.811962Z",
          "start_time": "2022-11-03T07:10:19.580135Z"
        },
        "id": "nMjCk2x3b6nf"
      },
      "outputs": [],
      "source": [
        "#Classification report of XGBoost model\n",
        "\n",
        "print(classification_report(predx,y_test))"
      ]
    },
    {
      "cell_type": "markdown",
      "id": "w-LohqUrcR2n",
      "metadata": {
        "id": "w-LohqUrcR2n"
      },
      "source": [
        "GAUSSIAN NAIVE BAYES"
      ]
    },
    {
      "cell_type": "code",
      "execution_count": null,
      "id": "3rCQSd3MytL6",
      "metadata": {
        "ExecuteTime": {
          "end_time": "2022-11-03T07:10:19.922015Z",
          "start_time": "2022-11-03T07:10:19.815962Z"
        },
        "id": "3rCQSd3MytL6"
      },
      "outputs": [],
      "source": [
        "from sklearn.naive_bayes import GaussianNB\n",
        "from sklearn.metrics import classification_report"
      ]
    },
    {
      "cell_type": "code",
      "execution_count": null,
      "id": "ltU1EBUUb6lA",
      "metadata": {
        "ExecuteTime": {
          "end_time": "2022-11-03T07:10:20.030596Z",
          "start_time": "2022-11-03T07:10:19.925013Z"
        },
        "id": "ltU1EBUUb6lA"
      },
      "outputs": [],
      "source": [
        "modelg=GaussianNB()\n",
        "modelg.fit(x_train,y_train)"
      ]
    },
    {
      "cell_type": "code",
      "execution_count": null,
      "id": "ikY6oci7b6iA",
      "metadata": {
        "ExecuteTime": {
          "end_time": "2022-11-03T07:10:20.140377Z",
          "start_time": "2022-11-03T07:10:20.033802Z"
        },
        "id": "ikY6oci7b6iA"
      },
      "outputs": [],
      "source": [
        "predg=modelg.predict(x_test)\n",
        "predg"
      ]
    },
    {
      "cell_type": "code",
      "execution_count": null,
      "id": "bd1OGjgSb6fg",
      "metadata": {
        "ExecuteTime": {
          "end_time": "2022-11-03T07:10:20.248346Z",
          "start_time": "2022-11-03T07:10:20.143340Z"
        },
        "id": "bd1OGjgSb6fg"
      },
      "outputs": [],
      "source": [
        "#Accuracy of Gaussian NB\n",
        "\n",
        "accgnb=np.mean(predg==y_test)\n",
        "accgnb"
      ]
    },
    {
      "cell_type": "code",
      "execution_count": null,
      "id": "q8CciaIib6dH",
      "metadata": {
        "ExecuteTime": {
          "end_time": "2022-11-03T07:10:20.402697Z",
          "start_time": "2022-11-03T07:10:20.251343Z"
        },
        "id": "q8CciaIib6dH"
      },
      "outputs": [],
      "source": [
        "#Classification report of Gaussian NB\n",
        "\n",
        "print(classification_report(predg,y_test))"
      ]
    },
    {
      "cell_type": "markdown",
      "id": "ZZbC5KCkc29z",
      "metadata": {
        "id": "ZZbC5KCkc29z"
      },
      "source": [
        "MULTINOMIAN NAIVE BAYES"
      ]
    },
    {
      "cell_type": "code",
      "execution_count": null,
      "id": "W1-tJ1-JyhUV",
      "metadata": {
        "ExecuteTime": {
          "end_time": "2022-11-03T07:10:20.527247Z",
          "start_time": "2022-11-03T07:10:20.405665Z"
        },
        "id": "W1-tJ1-JyhUV"
      },
      "outputs": [],
      "source": [
        "from sklearn.naive_bayes import MultinomialNB\n",
        "from sklearn.metrics import classification_report"
      ]
    },
    {
      "cell_type": "code",
      "execution_count": null,
      "id": "9d86oNuicj7x",
      "metadata": {
        "ExecuteTime": {
          "end_time": "2022-11-03T07:10:20.824299Z",
          "start_time": "2022-11-03T07:10:20.530245Z"
        },
        "id": "9d86oNuicj7x"
      },
      "outputs": [],
      "source": [
        "modelmb=MultinomialNB()\n",
        "modelmb.fit(x_train,y_train)"
      ]
    },
    {
      "cell_type": "code",
      "execution_count": null,
      "id": "e8NuAM5Scj5t",
      "metadata": {
        "ExecuteTime": {
          "end_time": "2022-11-03T07:10:20.854220Z",
          "start_time": "2022-11-03T07:10:20.827293Z"
        },
        "id": "e8NuAM5Scj5t"
      },
      "outputs": [],
      "source": [
        "predmb=modelmb.predict(x_test)\n",
        "predmb"
      ]
    },
    {
      "cell_type": "code",
      "execution_count": null,
      "id": "O6g9OdiLcj3h",
      "metadata": {
        "ExecuteTime": {
          "end_time": "2022-11-03T07:10:20.933007Z",
          "start_time": "2022-11-03T07:10:20.858209Z"
        },
        "id": "O6g9OdiLcj3h"
      },
      "outputs": [],
      "source": [
        "#Accuracy of Multinomial NB\n",
        "\n",
        "accmb=np.mean(y_test==predmb)\n",
        "accmb"
      ]
    },
    {
      "cell_type": "code",
      "execution_count": null,
      "id": "DJUA1iG1cjzw",
      "metadata": {
        "ExecuteTime": {
          "end_time": "2022-11-03T07:10:21.276941Z",
          "start_time": "2022-11-03T07:10:20.936000Z"
        },
        "id": "DJUA1iG1cjzw"
      },
      "outputs": [],
      "source": [
        "#Classification report on Multinomial NB\n",
        "\n",
        "print(classification_report(predmb,y_test))"
      ]
    },
    {
      "cell_type": "code",
      "execution_count": null,
      "id": "F8zShQrmcjvc",
      "metadata": {
        "ExecuteTime": {
          "end_time": "2022-11-07T12:39:00.108421Z",
          "start_time": "2022-11-07T12:39:00.079497Z"
        },
        "id": "F8zShQrmcjvc"
      },
      "outputs": [],
      "source": [
        "z={'MODEL':pd.Series(['LR','AdaBoost','XGB','MBNB','GNB']),'Accuracy_test':pd.Series([acclr,accab,accxb,accmb,accgnb])}\n",
        "pd.DataFrame(z)"
      ]
    },
    {
      "cell_type": "code",
      "execution_count": null,
      "id": "ZcrB_czVp18U",
      "metadata": {
        "ExecuteTime": {
          "end_time": "2022-11-03T07:10:21.710825Z",
          "start_time": "2022-11-03T07:10:21.387795Z"
        },
        "id": "ZcrB_czVp18U"
      },
      "outputs": [],
      "source": [
        "from sklearn import svm\n",
        "from sklearn.svm import SVC"
      ]
    },
    {
      "cell_type": "code",
      "execution_count": null,
      "id": "8nzmsoGcp11r",
      "metadata": {
        "ExecuteTime": {
          "end_time": "2022-11-03T07:10:21.897537Z",
          "start_time": "2022-11-03T07:10:21.713668Z"
        },
        "id": "8nzmsoGcp11r"
      },
      "outputs": [],
      "source": [
        "clf = SVC(gamma=5,C=10,kernel='poly',degree=4)"
      ]
    },
    {
      "cell_type": "code",
      "execution_count": null,
      "id": "EBic5wiyp1tW",
      "metadata": {
        "ExecuteTime": {
          "end_time": "2022-11-03T07:12:23.102121Z",
          "start_time": "2022-11-03T07:10:21.900537Z"
        },
        "id": "EBic5wiyp1tW"
      },
      "outputs": [],
      "source": [
        "clf.fit(x_train,y_train)\n",
        "preeee=clf.predict(x_test)"
      ]
    },
    {
      "cell_type": "code",
      "execution_count": null,
      "id": "KtwKkjCgcjr3",
      "metadata": {
        "ExecuteTime": {
          "end_time": "2022-11-03T07:12:23.117391Z",
          "start_time": "2022-11-03T07:12:23.102121Z"
        },
        "id": "KtwKkjCgcjr3"
      },
      "outputs": [],
      "source": [
        "np.mean(y_test==preeee)"
      ]
    },
    {
      "cell_type": "markdown",
      "id": "mkZn2u1IsQ_6",
      "metadata": {
        "id": "mkZn2u1IsQ_6"
      },
      "source": [
        "RANDOM FOREST"
      ]
    },
    {
      "cell_type": "code",
      "execution_count": null,
      "id": "FT0Sys1kwK6L",
      "metadata": {
        "ExecuteTime": {
          "end_time": "2022-11-03T07:12:23.458020Z",
          "start_time": "2022-11-03T07:12:23.120385Z"
        },
        "id": "FT0Sys1kwK6L"
      },
      "outputs": [],
      "source": [
        "import pandas as pd\n",
        "import numpy as np\n",
        "from sklearn.ensemble import RandomForestClassifier\n",
        "from sklearn.model_selection import KFold\n",
        "from sklearn.model_selection import cross_val_score\n",
        "from sklearn.ensemble import BaggingClassifier\n",
        "from sklearn.ensemble import AdaBoostClassifier\n",
        "from sklearn.model_selection import train_test_split"
      ]
    },
    {
      "cell_type": "code",
      "execution_count": null,
      "id": "4LqHVqR6b6aj",
      "metadata": {
        "ExecuteTime": {
          "end_time": "2022-11-07T12:45:14.085605Z",
          "start_time": "2022-11-07T12:45:13.302079Z"
        },
        "id": "4LqHVqR6b6aj"
      },
      "outputs": [],
      "source": [
        "modelb=RandomForestClassifier()\n",
        "modelb.fit(x_train,y_train)\n",
        "pred=modelb.predict(x_test)\n",
        "accrf=np.mean(y_test==pred)\n",
        "accrf"
      ]
    },
    {
      "cell_type": "code",
      "execution_count": null,
      "id": "dDj8S9VPbYj2",
      "metadata": {
        "ExecuteTime": {
          "end_time": "2022-11-03T07:12:31.463504Z",
          "start_time": "2022-11-03T07:12:24.399973Z"
        },
        "id": "dDj8S9VPbYj2"
      },
      "outputs": [],
      "source": [
        "#Kfold validation\n",
        "kfold=KFold(n_splits=10)\n",
        "results=cross_val_score(modelb,x,y,cv=kfold)\n",
        "print(results.mean())"
      ]
    },
    {
      "cell_type": "code",
      "execution_count": null,
      "id": "893424b1",
      "metadata": {
        "ExecuteTime": {
          "end_time": "2022-11-03T07:16:13.719853Z",
          "start_time": "2022-11-03T07:12:31.466470Z"
        },
        "id": "893424b1"
      },
      "outputs": [],
      "source": [
        "#Bagging\n",
        "modelb1=RandomForestClassifier(n_estimators=500,criterion='entropy',max_leaf_nodes=19,max_depth=19)\n",
        "model=BaggingClassifier(base_estimator=modelb1)\n",
        "results=cross_val_score(model,x,y,cv=kfold)\n",
        "print(results.mean())"
      ]
    },
    {
      "cell_type": "code",
      "execution_count": null,
      "id": "248f0a21",
      "metadata": {
        "ExecuteTime": {
          "end_time": "2022-11-03T07:16:22.018820Z",
          "start_time": "2022-11-03T07:16:13.723329Z"
        },
        "id": "248f0a21"
      },
      "outputs": [],
      "source": [
        "#boosting\n",
        "model=AdaBoostClassifier(base_estimator=modelb)\n",
        "results=cross_val_score(model,x,y,cv=kfold)\n",
        "print(results.mean())"
      ]
    },
    {
      "cell_type": "markdown",
      "id": "21FJ5RUFueoD",
      "metadata": {
        "id": "21FJ5RUFueoD"
      },
      "source": [
        "DECISION TREE"
      ]
    },
    {
      "cell_type": "code",
      "execution_count": null,
      "id": "X4x4SnOwuyaS",
      "metadata": {
        "ExecuteTime": {
          "end_time": "2022-11-03T07:16:22.033566Z",
          "start_time": "2022-11-03T07:16:22.021598Z"
        },
        "id": "X4x4SnOwuyaS"
      },
      "outputs": [],
      "source": [
        "import pandas as pd\n",
        "import seaborn as sns\n",
        "from sklearn.tree import  DecisionTreeClassifier\n",
        "from sklearn import tree\n",
        "from sklearn import datasets"
      ]
    },
    {
      "cell_type": "code",
      "execution_count": null,
      "id": "8f9a7996",
      "metadata": {
        "ExecuteTime": {
          "end_time": "2022-11-03T07:16:22.188973Z",
          "start_time": "2022-11-03T07:16:22.041545Z"
        },
        "id": "8f9a7996"
      },
      "outputs": [],
      "source": [
        "model=DecisionTreeClassifier(criterion='entropy',max_depth=3)\n",
        "model.fit(x_train,y_train)"
      ]
    },
    {
      "cell_type": "code",
      "execution_count": null,
      "id": "64dd10c0",
      "metadata": {
        "ExecuteTime": {
          "end_time": "2022-11-03T07:16:23.309945Z",
          "start_time": "2022-11-03T07:16:22.193930Z"
        },
        "id": "64dd10c0"
      },
      "outputs": [],
      "source": [
        "tree.plot_tree(model);"
      ]
    },
    {
      "cell_type": "code",
      "execution_count": null,
      "id": "xmA1O_TOsLF2",
      "metadata": {
        "ExecuteTime": {
          "end_time": "2022-11-03T07:16:24.128004Z",
          "start_time": "2022-11-03T07:16:23.309945Z"
        },
        "id": "xmA1O_TOsLF2"
      },
      "outputs": [],
      "source": [
        "fn=['account_length','voice_mail_plan','voice_mail_messages','day_mins','evening_mins','night_mins','international_mins','customer_service_calls','international_plan','day_calls','day_charge','evening_calls','evening_charge','night_calls','night_charge','international_calls','international_charge','total_charge']\n",
        "cn=['0','1']\n",
        "fig,axes=plt.subplots(nrows=1,ncols=1,figsize=(4,4),dpi=300)\n",
        "tree.plot_tree(model,\n",
        "              feature_names=fn,\n",
        "              class_names=cn,\n",
        "              filled=True);"
      ]
    },
    {
      "cell_type": "code",
      "execution_count": null,
      "id": "bXDuPzoRsLDU",
      "metadata": {
        "ExecuteTime": {
          "end_time": "2022-11-03T07:16:24.158987Z",
          "start_time": "2022-11-03T07:16:24.139945Z"
        },
        "id": "bXDuPzoRsLDU"
      },
      "outputs": [],
      "source": [
        "text=tree.export_text(model,max_depth=3)\n",
        "print(text)"
      ]
    },
    {
      "cell_type": "code",
      "execution_count": null,
      "id": "x4VttPlEsLA9",
      "metadata": {
        "ExecuteTime": {
          "end_time": "2022-11-03T07:16:24.252345Z",
          "start_time": "2022-11-03T07:16:24.162955Z"
        },
        "id": "x4VttPlEsLA9"
      },
      "outputs": [],
      "source": [
        "model.feature_importances_"
      ]
    },
    {
      "cell_type": "code",
      "execution_count": null,
      "id": "a9dqnDCAsK-t",
      "metadata": {
        "ExecuteTime": {
          "end_time": "2022-11-03T07:16:24.545514Z",
          "start_time": "2022-11-03T07:16:24.255336Z"
        },
        "id": "a9dqnDCAsK-t"
      },
      "outputs": [],
      "source": [
        "feature_imp=pd.Series(model.feature_importances_,index=fn).sort_values(ascending=False)\n",
        "feature_imp"
      ]
    },
    {
      "cell_type": "code",
      "execution_count": null,
      "id": "OeV8r-U9sK8W",
      "metadata": {
        "ExecuteTime": {
          "end_time": "2022-11-03T07:16:25.437848Z",
          "start_time": "2022-11-03T07:16:24.548723Z"
        },
        "id": "OeV8r-U9sK8W"
      },
      "outputs": [],
      "source": [
        "sns.barplot(x=feature_imp,y=feature_imp.index)\n",
        "plt.xlabel('feature importance score')\n",
        "plt.ylabel('Feature')\n",
        "plt.title('Visualizing imp features')\n",
        "plt.show()"
      ]
    },
    {
      "cell_type": "code",
      "execution_count": null,
      "id": "CWDQJKNHsK4n",
      "metadata": {
        "ExecuteTime": {
          "end_time": "2022-11-03T07:16:25.469729Z",
          "start_time": "2022-11-03T07:16:25.441805Z"
        },
        "id": "CWDQJKNHsK4n"
      },
      "outputs": [],
      "source": [
        "#Predecting on test data\n",
        "preds=model.predict(x_test)\n",
        "pd.Series(preds).value_counts()"
      ]
    },
    {
      "cell_type": "code",
      "execution_count": null,
      "id": "KsEcjvZmsKyN",
      "metadata": {
        "ExecuteTime": {
          "end_time": "2022-11-03T07:16:25.593219Z",
          "start_time": "2022-11-03T07:16:25.472722Z"
        },
        "id": "KsEcjvZmsKyN"
      },
      "outputs": [],
      "source": [
        "preds"
      ]
    },
    {
      "cell_type": "code",
      "execution_count": null,
      "id": "FFwpMr4esKvR",
      "metadata": {
        "ExecuteTime": {
          "end_time": "2022-11-03T07:16:25.823656Z",
          "start_time": "2022-11-03T07:16:25.596215Z"
        },
        "id": "FFwpMr4esKvR"
      },
      "outputs": [],
      "source": [
        "pd.crosstab(y_test,preds)"
      ]
    },
    {
      "cell_type": "code",
      "execution_count": null,
      "id": "5XH1CfsisKsn",
      "metadata": {
        "ExecuteTime": {
          "end_time": "2022-11-07T12:39:49.295326Z",
          "start_time": "2022-11-07T12:39:49.272392Z"
        },
        "id": "5XH1CfsisKsn"
      },
      "outputs": [],
      "source": [
        "#Accuracy\n",
        "accdt=np.mean(preds==y_test)\n",
        "accdt"
      ]
    },
    {
      "cell_type": "code",
      "execution_count": null,
      "id": "fmN5JK2mvfM3",
      "metadata": {
        "ExecuteTime": {
          "end_time": "2022-11-03T07:16:26.212275Z",
          "start_time": "2022-11-03T07:16:25.952265Z"
        },
        "id": "fmN5JK2mvfM3"
      },
      "outputs": [],
      "source": [
        "# using cart\n",
        "from sklearn.tree import DecisionTreeClassifier\n",
        "model_gini=DecisionTreeClassifier(criterion='gini',max_depth=3)"
      ]
    },
    {
      "cell_type": "code",
      "execution_count": null,
      "id": "bSkYsoRIvfJy",
      "metadata": {
        "ExecuteTime": {
          "end_time": "2022-11-03T07:16:26.397900Z",
          "start_time": "2022-11-03T07:16:26.215272Z"
        },
        "id": "bSkYsoRIvfJy"
      },
      "outputs": [],
      "source": [
        "model_gini.fit(x_train,y_train)"
      ]
    },
    {
      "cell_type": "code",
      "execution_count": null,
      "id": "22GrvGGVvfG8",
      "metadata": {
        "ExecuteTime": {
          "end_time": "2022-11-03T07:16:26.523699Z",
          "start_time": "2022-11-03T07:16:26.400913Z"
        },
        "id": "22GrvGGVvfG8"
      },
      "outputs": [],
      "source": [
        "pred=model.predict(x_test)\n",
        "np.mean(preds==y_test)"
      ]
    },
    {
      "cell_type": "code",
      "execution_count": null,
      "id": "ZdHIR4yMvfDd",
      "metadata": {
        "ExecuteTime": {
          "end_time": "2022-11-03T07:16:26.678702Z",
          "start_time": "2022-11-03T07:16:26.527689Z"
        },
        "id": "ZdHIR4yMvfDd"
      },
      "outputs": [],
      "source": [
        "model.feature_importances_"
      ]
    },
    {
      "cell_type": "code",
      "execution_count": null,
      "id": "jitxZLbgvrZa",
      "metadata": {
        "ExecuteTime": {
          "end_time": "2022-11-03T07:16:26.835173Z",
          "start_time": "2022-11-03T07:16:26.681733Z"
        },
        "id": "jitxZLbgvrZa"
      },
      "outputs": [],
      "source": [
        "array=Telecom.values\n",
        "X=array[:,0:18]\n",
        "Y=array[:,18]"
      ]
    },
    {
      "cell_type": "code",
      "execution_count": null,
      "id": "eVVudZsAvrTO",
      "metadata": {
        "ExecuteTime": {
          "end_time": "2022-11-03T07:16:27.020808Z",
          "start_time": "2022-11-03T07:16:26.838043Z"
        },
        "id": "eVVudZsAvrTO"
      },
      "outputs": [],
      "source": [
        "X_train,X_test,Y_train,Y_test=train_test_split(X,Y, test_size=0.3,random_state=42)"
      ]
    },
    {
      "cell_type": "code",
      "execution_count": null,
      "id": "Uas1ab4-vrND",
      "metadata": {
        "ExecuteTime": {
          "end_time": "2022-11-03T07:16:27.251806Z",
          "start_time": "2022-11-03T07:16:27.023822Z"
        },
        "id": "Uas1ab4-vrND"
      },
      "outputs": [],
      "source": [
        "from sklearn.tree import DecisionTreeRegressor\n",
        "model=DecisionTreeRegressor(max_depth=3)\n",
        "model.fit(X_train,Y_train)"
      ]
    },
    {
      "cell_type": "code",
      "execution_count": null,
      "id": "QDl3gkMevrKD",
      "metadata": {
        "ExecuteTime": {
          "end_time": "2022-11-03T07:16:27.559705Z",
          "start_time": "2022-11-03T07:16:27.254803Z"
        },
        "id": "QDl3gkMevrKD"
      },
      "outputs": [],
      "source": [
        "model.score(X_test,Y_test)"
      ]
    },
    {
      "cell_type": "code",
      "execution_count": null,
      "id": "yND6TAgVsKpv",
      "metadata": {
        "ExecuteTime": {
          "end_time": "2022-11-03T07:16:27.917262Z",
          "start_time": "2022-11-03T07:16:27.561578Z"
        },
        "id": "yND6TAgVsKpv"
      },
      "outputs": [],
      "source": [
        "model.score(X_train,Y_train)"
      ]
    },
    {
      "cell_type": "markdown",
      "id": "1z4H_sd7y_4N",
      "metadata": {
        "id": "1z4H_sd7y_4N"
      },
      "source": [
        "SUPPORT VECTOR MACHINE"
      ]
    },
    {
      "cell_type": "code",
      "execution_count": null,
      "id": "SkgqqyDVzI6K",
      "metadata": {
        "ExecuteTime": {
          "end_time": "2022-11-03T07:16:28.148499Z",
          "start_time": "2022-11-03T07:16:27.919220Z"
        },
        "id": "SkgqqyDVzI6K"
      },
      "outputs": [],
      "source": [
        "from sklearn.model_selection._split import train_test_split\n",
        "from sklearn import svm\n",
        "from sklearn.svm import SVC"
      ]
    },
    {
      "cell_type": "code",
      "execution_count": null,
      "id": "aujDV7aKzdkQ",
      "metadata": {
        "ExecuteTime": {
          "end_time": "2022-11-03T07:16:28.412875Z",
          "start_time": "2022-11-03T07:16:28.152329Z"
        },
        "id": "aujDV7aKzdkQ"
      },
      "outputs": [],
      "source": [
        "X_train,X_test,y_train,y_test=train_test_split(X,y,test_size=0.3,random_state=42)"
      ]
    },
    {
      "cell_type": "code",
      "execution_count": null,
      "id": "7y4DKKWVzmBv",
      "metadata": {
        "ExecuteTime": {
          "end_time": "2022-11-03T07:17:49.664180Z",
          "start_time": "2022-11-03T07:16:28.416869Z"
        },
        "id": "7y4DKKWVzmBv"
      },
      "outputs": [],
      "source": [
        "clf = SVC(kernel='linear')\n",
        "clf.fit(X_train, y_train)\n",
        "y_pred_train = clf.predict(X_train)\n",
        "y_pred_test  = clf.predict(X_test)"
      ]
    },
    {
      "cell_type": "code",
      "execution_count": null,
      "id": "b9156469",
      "metadata": {
        "ExecuteTime": {
          "end_time": "2022-11-03T07:32:45.732042Z",
          "start_time": "2022-11-03T07:32:45.722099Z"
        },
        "id": "b9156469"
      },
      "outputs": [],
      "source": [
        "np.mean(y_test==y_pred_test)"
      ]
    },
    {
      "cell_type": "code",
      "execution_count": null,
      "id": "fQqE0f-G3mxj",
      "metadata": {
        "ExecuteTime": {
          "end_time": "2022-11-03T07:33:47.694484Z",
          "start_time": "2022-11-03T07:33:47.376209Z"
        },
        "id": "fQqE0f-G3mxj"
      },
      "outputs": [],
      "source": [
        "clf = SVC(kernel='poly',degree=3)\n",
        "clf.fit(X_train, y_train)\n",
        "y_pred_train1 = clf.predict(X_train)\n",
        "y_pred_test1  = clf.predict(X_test)"
      ]
    },
    {
      "cell_type": "code",
      "execution_count": null,
      "id": "77790aeb",
      "metadata": {
        "ExecuteTime": {
          "end_time": "2022-11-03T07:33:50.357746Z",
          "start_time": "2022-11-03T07:33:50.335807Z"
        },
        "id": "77790aeb"
      },
      "outputs": [],
      "source": [
        "np.mean(y_test==y_pred_test1)"
      ]
    },
    {
      "cell_type": "code",
      "execution_count": null,
      "id": "6AstCT0U3mo0",
      "metadata": {
        "ExecuteTime": {
          "end_time": "2022-11-03T07:33:53.545285Z",
          "start_time": "2022-11-03T07:33:53.035597Z"
        },
        "id": "6AstCT0U3mo0"
      },
      "outputs": [],
      "source": [
        "clf = SVC(kernel='rbf')\n",
        "clf.fit(X_train, y_train)\n",
        "y_pred_train2 = clf.predict(X_train)\n",
        "y_pred_test2  = clf.predict(X_test)"
      ]
    },
    {
      "cell_type": "code",
      "execution_count": null,
      "id": "18286f0b",
      "metadata": {
        "ExecuteTime": {
          "end_time": "2022-11-03T07:34:03.958805Z",
          "start_time": "2022-11-03T07:34:03.939855Z"
        },
        "id": "18286f0b"
      },
      "outputs": [],
      "source": [
        "np.mean(y_test==y_pred_test2)"
      ]
    },
    {
      "cell_type": "code",
      "execution_count": null,
      "id": "VlenaX3C3mmG",
      "metadata": {
        "ExecuteTime": {
          "end_time": "2022-11-03T07:34:36.594852Z",
          "start_time": "2022-11-03T07:34:36.153815Z"
        },
        "id": "VlenaX3C3mmG"
      },
      "outputs": [],
      "source": [
        "clf = SVC(kernel='sigmoid')\n",
        "clf.fit(X_train, y_train)\n",
        "y_pred_train3 = clf.predict(X_train)\n",
        "y_pred_test3  = clf.predict(X_test)"
      ]
    },
    {
      "cell_type": "code",
      "execution_count": null,
      "id": "73466858",
      "metadata": {
        "ExecuteTime": {
          "end_time": "2022-11-03T07:34:38.688557Z",
          "start_time": "2022-11-03T07:34:38.666618Z"
        },
        "id": "73466858"
      },
      "outputs": [],
      "source": [
        "np.mean(y_test==y_pred_test3)"
      ]
    },
    {
      "cell_type": "code",
      "execution_count": null,
      "id": "zdHlQ-TZ3mjA",
      "metadata": {
        "ExecuteTime": {
          "end_time": "2022-11-03T07:17:50.922150Z",
          "start_time": "2022-11-03T07:17:50.848275Z"
        },
        "id": "zdHlQ-TZ3mjA"
      },
      "outputs": [],
      "source": [
        "from sklearn import metrics\n",
        "cm = metrics.confusion_matrix(y_test, y_pred_test)\n",
        "print(cm)"
      ]
    },
    {
      "cell_type": "code",
      "execution_count": null,
      "id": "QTCqx7E-3maC",
      "metadata": {
        "ExecuteTime": {
          "end_time": "2022-11-03T07:17:51.014550Z",
          "start_time": "2022-11-03T07:17:50.927089Z"
        },
        "id": "QTCqx7E-3maC"
      },
      "outputs": [],
      "source": [
        "print(\"Training Accuracy :\",metrics.accuracy_score(y_train, y_pred_train).round(2))\n",
        "print(\"Testing Accuracy:\",metrics.accuracy_score(y_test, y_pred_test).round(2))"
      ]
    },
    {
      "cell_type": "code",
      "execution_count": null,
      "id": "b3cLv0Rf53kQ",
      "metadata": {
        "ExecuteTime": {
          "end_time": "2022-11-07T12:34:41.089460Z",
          "start_time": "2022-11-07T12:34:41.050549Z"
        },
        "id": "b3cLv0Rf53kQ"
      },
      "outputs": [],
      "source": [
        "cm = metrics.confusion_matrix(y_train, y_pred_train)\n",
        "print(cm)"
      ]
    },
    {
      "cell_type": "code",
      "execution_count": null,
      "id": "YKuBhydP53ME",
      "metadata": {
        "ExecuteTime": {
          "end_time": "2022-11-03T07:20:26.814167Z",
          "start_time": "2022-11-03T07:17:51.143457Z"
        },
        "id": "YKuBhydP53ME"
      },
      "outputs": [],
      "source": [
        "clf = SVC(gamma=15,C=12,kernel='linear')\n",
        "clf.fit(X_train, y_train)\n",
        "y_pred=clf.predict(X_test)"
      ]
    },
    {
      "cell_type": "code",
      "execution_count": null,
      "id": "e5b5d11d",
      "metadata": {
        "ExecuteTime": {
          "end_time": "2022-11-07T12:40:23.219759Z",
          "start_time": "2022-11-07T12:40:23.197819Z"
        },
        "id": "e5b5d11d"
      },
      "outputs": [],
      "source": [
        "accsv=np.mean(y_pred==y_test)\n",
        "accsv"
      ]
    },
    {
      "cell_type": "code",
      "execution_count": null,
      "id": "a822a3b8",
      "metadata": {
        "ExecuteTime": {
          "end_time": "2022-11-07T12:45:21.387734Z",
          "start_time": "2022-11-07T12:45:21.378758Z"
        },
        "id": "a822a3b8"
      },
      "outputs": [],
      "source": [
        "accrf"
      ]
    },
    {
      "cell_type": "code",
      "execution_count": null,
      "id": "50a2a919",
      "metadata": {
        "ExecuteTime": {
          "end_time": "2022-11-07T12:49:10.098167Z",
          "start_time": "2022-11-07T12:49:10.078222Z"
        },
        "id": "50a2a919"
      },
      "outputs": [],
      "source": [
        "Z={'MODEL':pd.Series(['LR','AdaBoost','XGB','MBNB','GNB','KNN','SVM','RF','DT']),'Accuracy_test':pd.Series([acclr,accab,accxb,accmb,accgnb,acckn,accsv,accrf,accdt])}\n",
        "pd.DataFrame(Z)"
      ]
    }
  ],
  "metadata": {
    "colab": {
      "provenance": []
    },
    "kernelspec": {
      "display_name": "Python 3 (ipykernel)",
      "language": "python",
      "name": "python3"
    },
    "language_info": {
      "codemirror_mode": {
        "name": "ipython",
        "version": 3
      },
      "file_extension": ".py",
      "mimetype": "text/x-python",
      "name": "python",
      "nbconvert_exporter": "python",
      "pygments_lexer": "ipython3",
      "version": "3.9.12"
    }
  },
  "nbformat": 4,
  "nbformat_minor": 5
}